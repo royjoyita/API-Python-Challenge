{
 "cells": [
  {
   "cell_type": "markdown",
   "metadata": {},
   "source": [
    "# VacationPy\n",
    "----\n",
    "\n",
    "#### Note\n",
    "* Keep an eye on your API usage. Use https://developers.google.com/maps/reporting/gmp-reporting as reference for how to monitor your usage and billing.\n",
    "\n",
    "* Instructions have been included for each segment. You do not have to follow them exactly, but they are included to help you think through the steps."
   ]
  },
  {
   "cell_type": "code",
   "execution_count": 1,
   "metadata": {},
   "outputs": [],
   "source": [
    "# Dependencies and Setup\n",
    "import matplotlib.pyplot as plt\n",
    "import pandas as pd\n",
    "import numpy as np\n",
    "import requests\n",
    "import gmaps\n",
    "import os\n",
    "import json\n",
    "import time\n",
    "\n"
   ]
  },
  {
   "cell_type": "markdown",
   "metadata": {},
   "source": [
    "### Store Part I results into DataFrame\n",
    "* Load the csv exported in Part I to a DataFrame"
   ]
  },
  {
   "cell_type": "code",
   "execution_count": 2,
   "metadata": {},
   "outputs": [
    {
     "data": {
      "text/html": [
       "<div>\n",
       "<style scoped>\n",
       "    .dataframe tbody tr th:only-of-type {\n",
       "        vertical-align: middle;\n",
       "    }\n",
       "\n",
       "    .dataframe tbody tr th {\n",
       "        vertical-align: top;\n",
       "    }\n",
       "\n",
       "    .dataframe thead th {\n",
       "        text-align: right;\n",
       "    }\n",
       "</style>\n",
       "<table border=\"1\" class=\"dataframe\">\n",
       "  <thead>\n",
       "    <tr style=\"text-align: right;\">\n",
       "      <th></th>\n",
       "      <th>City Name</th>\n",
       "      <th>Date</th>\n",
       "      <th>Long</th>\n",
       "      <th>Lat</th>\n",
       "      <th>Temp</th>\n",
       "      <th>Humid</th>\n",
       "      <th>Wind</th>\n",
       "      <th>clouds</th>\n",
       "      <th>Country</th>\n",
       "    </tr>\n",
       "  </thead>\n",
       "  <tbody>\n",
       "    <tr>\n",
       "      <th>0</th>\n",
       "      <td>Vaini</td>\n",
       "      <td>1612023597</td>\n",
       "      <td>-175.2000</td>\n",
       "      <td>-21.2000</td>\n",
       "      <td>73.40</td>\n",
       "      <td>94</td>\n",
       "      <td>4.61</td>\n",
       "      <td>90</td>\n",
       "      <td>TO</td>\n",
       "    </tr>\n",
       "    <tr>\n",
       "      <th>1</th>\n",
       "      <td>Pangnirtung</td>\n",
       "      <td>1612023197</td>\n",
       "      <td>-65.7125</td>\n",
       "      <td>66.1451</td>\n",
       "      <td>-9.40</td>\n",
       "      <td>77</td>\n",
       "      <td>2.26</td>\n",
       "      <td>1</td>\n",
       "      <td>CA</td>\n",
       "    </tr>\n",
       "    <tr>\n",
       "      <th>2</th>\n",
       "      <td>Yellowknife</td>\n",
       "      <td>1612023218</td>\n",
       "      <td>-114.3525</td>\n",
       "      <td>62.4560</td>\n",
       "      <td>-18.99</td>\n",
       "      <td>76</td>\n",
       "      <td>5.75</td>\n",
       "      <td>20</td>\n",
       "      <td>CA</td>\n",
       "    </tr>\n",
       "    <tr>\n",
       "      <th>3</th>\n",
       "      <td>Albany</td>\n",
       "      <td>1612023161</td>\n",
       "      <td>-73.9662</td>\n",
       "      <td>42.6001</td>\n",
       "      <td>14.00</td>\n",
       "      <td>53</td>\n",
       "      <td>3.00</td>\n",
       "      <td>0</td>\n",
       "      <td>US</td>\n",
       "    </tr>\n",
       "    <tr>\n",
       "      <th>4</th>\n",
       "      <td>Ankang</td>\n",
       "      <td>1612023598</td>\n",
       "      <td>109.0172</td>\n",
       "      <td>32.6800</td>\n",
       "      <td>49.06</td>\n",
       "      <td>48</td>\n",
       "      <td>0.85</td>\n",
       "      <td>99</td>\n",
       "      <td>CN</td>\n",
       "    </tr>\n",
       "    <tr>\n",
       "      <th>...</th>\n",
       "      <td>...</td>\n",
       "      <td>...</td>\n",
       "      <td>...</td>\n",
       "      <td>...</td>\n",
       "      <td>...</td>\n",
       "      <td>...</td>\n",
       "      <td>...</td>\n",
       "      <td>...</td>\n",
       "      <td>...</td>\n",
       "    </tr>\n",
       "    <tr>\n",
       "      <th>554</th>\n",
       "      <td>Itupiranga</td>\n",
       "      <td>1612023458</td>\n",
       "      <td>-49.3267</td>\n",
       "      <td>-5.1347</td>\n",
       "      <td>89.60</td>\n",
       "      <td>66</td>\n",
       "      <td>4.61</td>\n",
       "      <td>40</td>\n",
       "      <td>BR</td>\n",
       "    </tr>\n",
       "    <tr>\n",
       "      <th>555</th>\n",
       "      <td>Morondava</td>\n",
       "      <td>1612023462</td>\n",
       "      <td>44.2833</td>\n",
       "      <td>-20.2833</td>\n",
       "      <td>83.08</td>\n",
       "      <td>74</td>\n",
       "      <td>5.84</td>\n",
       "      <td>1</td>\n",
       "      <td>MG</td>\n",
       "    </tr>\n",
       "    <tr>\n",
       "      <th>556</th>\n",
       "      <td>Omboué</td>\n",
       "      <td>1612023404</td>\n",
       "      <td>9.2618</td>\n",
       "      <td>-1.5746</td>\n",
       "      <td>81.63</td>\n",
       "      <td>76</td>\n",
       "      <td>10.47</td>\n",
       "      <td>44</td>\n",
       "      <td>GA</td>\n",
       "    </tr>\n",
       "    <tr>\n",
       "      <th>557</th>\n",
       "      <td>Sitka</td>\n",
       "      <td>1612023393</td>\n",
       "      <td>-135.3300</td>\n",
       "      <td>57.0531</td>\n",
       "      <td>37.40</td>\n",
       "      <td>60</td>\n",
       "      <td>9.22</td>\n",
       "      <td>75</td>\n",
       "      <td>US</td>\n",
       "    </tr>\n",
       "    <tr>\n",
       "      <th>558</th>\n",
       "      <td>Cockburn Town</td>\n",
       "      <td>1612023723</td>\n",
       "      <td>-71.1419</td>\n",
       "      <td>21.4612</td>\n",
       "      <td>72.30</td>\n",
       "      <td>67</td>\n",
       "      <td>17.31</td>\n",
       "      <td>39</td>\n",
       "      <td>TC</td>\n",
       "    </tr>\n",
       "  </tbody>\n",
       "</table>\n",
       "<p>559 rows × 9 columns</p>\n",
       "</div>"
      ],
      "text/plain": [
       "         City Name        Date      Long      Lat   Temp  Humid   Wind  \\\n",
       "0            Vaini  1612023597 -175.2000 -21.2000  73.40     94   4.61   \n",
       "1      Pangnirtung  1612023197  -65.7125  66.1451  -9.40     77   2.26   \n",
       "2      Yellowknife  1612023218 -114.3525  62.4560 -18.99     76   5.75   \n",
       "3           Albany  1612023161  -73.9662  42.6001  14.00     53   3.00   \n",
       "4           Ankang  1612023598  109.0172  32.6800  49.06     48   0.85   \n",
       "..             ...         ...       ...      ...    ...    ...    ...   \n",
       "554     Itupiranga  1612023458  -49.3267  -5.1347  89.60     66   4.61   \n",
       "555      Morondava  1612023462   44.2833 -20.2833  83.08     74   5.84   \n",
       "556         Omboué  1612023404    9.2618  -1.5746  81.63     76  10.47   \n",
       "557          Sitka  1612023393 -135.3300  57.0531  37.40     60   9.22   \n",
       "558  Cockburn Town  1612023723  -71.1419  21.4612  72.30     67  17.31   \n",
       "\n",
       "     clouds Country  \n",
       "0        90      TO  \n",
       "1         1      CA  \n",
       "2        20      CA  \n",
       "3         0      US  \n",
       "4        99      CN  \n",
       "..      ...     ...  \n",
       "554      40      BR  \n",
       "555       1      MG  \n",
       "556      44      GA  \n",
       "557      75      US  \n",
       "558      39      TC  \n",
       "\n",
       "[559 rows x 9 columns]"
      ]
     },
     "execution_count": 2,
     "metadata": {},
     "output_type": "execute_result"
    }
   ],
   "source": [
    "# Import API key\n",
    "from api_keys import g_key\n",
    "\n",
    "file = \"output_data/cities.csv\" \n",
    "weather = pd.read_csv(file) \n",
    "\n",
    "weather = pd.read_csv(file) \n",
    "weather.set_index('City Name', inplace=True) \n",
    "weather.drop(columns=['Unnamed: 0'], inplace=True) \n",
    "weather.reset_index()\n",
    "\n"
   ]
  },
  {
   "cell_type": "markdown",
   "metadata": {},
   "source": [
    "### Humidity Heatmap\n",
    "* Configure gmaps.\n",
    "* Use the Lat and Lng as locations and Humidity as the weight.\n",
    "* Add Heatmap layer to map."
   ]
  },
  {
   "cell_type": "code",
   "execution_count": 3,
   "metadata": {},
   "outputs": [
    {
     "data": {
      "application/vnd.jupyter.widget-view+json": {
       "model_id": "908487bdaa0d45d38954257d82be4b65",
       "version_major": 2,
       "version_minor": 0
      },
      "text/plain": [
       "Figure(layout=FigureLayout(height='420px'))"
      ]
     },
     "metadata": {},
     "output_type": "display_data"
    }
   ],
   "source": [
    "locations = weather[[\"Lat\", \"Long\"]].astype(float)\n",
    "weight = weather['Humid']\n",
    "fig = gmaps.figure()\n",
    "heat_layer = gmaps.heatmap_layer(locations, weights=weight, \n",
    "                                 dissipating=False, max_intensity=100,\n",
    "                                 point_radius = 2.5)\n",
    "\n",
    "fig.add_layer(heat_layer)\n",
    "fig\n"
   ]
  },
  {
   "cell_type": "code",
   "execution_count": 4,
   "metadata": {},
   "outputs": [
    {
     "data": {
      "text/html": [
       "<div>\n",
       "<style scoped>\n",
       "    .dataframe tbody tr th:only-of-type {\n",
       "        vertical-align: middle;\n",
       "    }\n",
       "\n",
       "    .dataframe tbody tr th {\n",
       "        vertical-align: top;\n",
       "    }\n",
       "\n",
       "    .dataframe thead th {\n",
       "        text-align: right;\n",
       "    }\n",
       "</style>\n",
       "<table border=\"1\" class=\"dataframe\">\n",
       "  <thead>\n",
       "    <tr style=\"text-align: right;\">\n",
       "      <th></th>\n",
       "      <th>City Name</th>\n",
       "      <th>Date</th>\n",
       "      <th>Long</th>\n",
       "      <th>Lat</th>\n",
       "      <th>Temp</th>\n",
       "      <th>Humid</th>\n",
       "      <th>Wind</th>\n",
       "      <th>clouds</th>\n",
       "      <th>Country</th>\n",
       "    </tr>\n",
       "  </thead>\n",
       "  <tbody>\n",
       "    <tr>\n",
       "      <th>0</th>\n",
       "      <td>Adrar</td>\n",
       "      <td>1612023637</td>\n",
       "      <td>-10.0711</td>\n",
       "      <td>20.5022</td>\n",
       "      <td>85.51</td>\n",
       "      <td>12</td>\n",
       "      <td>12.91</td>\n",
       "      <td>25</td>\n",
       "      <td>MR</td>\n",
       "    </tr>\n",
       "    <tr>\n",
       "      <th>1</th>\n",
       "      <td>Marsá Maţrūḩ</td>\n",
       "      <td>1612023583</td>\n",
       "      <td>27.2453</td>\n",
       "      <td>31.3525</td>\n",
       "      <td>73.40</td>\n",
       "      <td>35</td>\n",
       "      <td>20.71</td>\n",
       "      <td>17</td>\n",
       "      <td>EG</td>\n",
       "    </tr>\n",
       "    <tr>\n",
       "      <th>2</th>\n",
       "      <td>Umm Kaddadah</td>\n",
       "      <td>1612023647</td>\n",
       "      <td>26.6876</td>\n",
       "      <td>13.6017</td>\n",
       "      <td>74.01</td>\n",
       "      <td>18</td>\n",
       "      <td>14.36</td>\n",
       "      <td>0</td>\n",
       "      <td>SD</td>\n",
       "    </tr>\n",
       "    <tr>\n",
       "      <th>3</th>\n",
       "      <td>Cosalá</td>\n",
       "      <td>1612023652</td>\n",
       "      <td>-106.6908</td>\n",
       "      <td>24.4125</td>\n",
       "      <td>78.93</td>\n",
       "      <td>35</td>\n",
       "      <td>1.54</td>\n",
       "      <td>0</td>\n",
       "      <td>MX</td>\n",
       "    </tr>\n",
       "    <tr>\n",
       "      <th>4</th>\n",
       "      <td>Constantine</td>\n",
       "      <td>1612023667</td>\n",
       "      <td>6.6147</td>\n",
       "      <td>36.3650</td>\n",
       "      <td>69.80</td>\n",
       "      <td>32</td>\n",
       "      <td>14.97</td>\n",
       "      <td>0</td>\n",
       "      <td>DZ</td>\n",
       "    </tr>\n",
       "    <tr>\n",
       "      <th>5</th>\n",
       "      <td>São José dos Campos</td>\n",
       "      <td>1612023670</td>\n",
       "      <td>-45.8869</td>\n",
       "      <td>-23.1794</td>\n",
       "      <td>89.60</td>\n",
       "      <td>33</td>\n",
       "      <td>3.44</td>\n",
       "      <td>40</td>\n",
       "      <td>BR</td>\n",
       "    </tr>\n",
       "    <tr>\n",
       "      <th>6</th>\n",
       "      <td>Minas Novas</td>\n",
       "      <td>1612023680</td>\n",
       "      <td>-42.5903</td>\n",
       "      <td>-17.2186</td>\n",
       "      <td>88.63</td>\n",
       "      <td>36</td>\n",
       "      <td>6.13</td>\n",
       "      <td>8</td>\n",
       "      <td>BR</td>\n",
       "    </tr>\n",
       "    <tr>\n",
       "      <th>7</th>\n",
       "      <td>Doka</td>\n",
       "      <td>1612023402</td>\n",
       "      <td>35.7667</td>\n",
       "      <td>13.5167</td>\n",
       "      <td>85.17</td>\n",
       "      <td>23</td>\n",
       "      <td>10.83</td>\n",
       "      <td>0</td>\n",
       "      <td>SD</td>\n",
       "    </tr>\n",
       "    <tr>\n",
       "      <th>8</th>\n",
       "      <td>Zuwārah</td>\n",
       "      <td>1612023689</td>\n",
       "      <td>12.0820</td>\n",
       "      <td>32.9312</td>\n",
       "      <td>72.86</td>\n",
       "      <td>36</td>\n",
       "      <td>10.83</td>\n",
       "      <td>0</td>\n",
       "      <td>LY</td>\n",
       "    </tr>\n",
       "    <tr>\n",
       "      <th>9</th>\n",
       "      <td>Jalu</td>\n",
       "      <td>1612023698</td>\n",
       "      <td>21.5482</td>\n",
       "      <td>29.0331</td>\n",
       "      <td>70.20</td>\n",
       "      <td>30</td>\n",
       "      <td>9.66</td>\n",
       "      <td>0</td>\n",
       "      <td>LY</td>\n",
       "    </tr>\n",
       "    <tr>\n",
       "      <th>10</th>\n",
       "      <td>Awjilah</td>\n",
       "      <td>1612023490</td>\n",
       "      <td>21.2869</td>\n",
       "      <td>29.1081</td>\n",
       "      <td>70.14</td>\n",
       "      <td>30</td>\n",
       "      <td>9.60</td>\n",
       "      <td>0</td>\n",
       "      <td>LY</td>\n",
       "    </tr>\n",
       "    <tr>\n",
       "      <th>11</th>\n",
       "      <td>Araouane</td>\n",
       "      <td>1612023714</td>\n",
       "      <td>-3.5265</td>\n",
       "      <td>18.9048</td>\n",
       "      <td>85.44</td>\n",
       "      <td>12</td>\n",
       "      <td>7.83</td>\n",
       "      <td>22</td>\n",
       "      <td>ML</td>\n",
       "    </tr>\n",
       "  </tbody>\n",
       "</table>\n",
       "</div>"
      ],
      "text/plain": [
       "              City Name        Date      Long      Lat   Temp  Humid   Wind  \\\n",
       "0                 Adrar  1612023637  -10.0711  20.5022  85.51     12  12.91   \n",
       "1          Marsá Maţrūḩ  1612023583   27.2453  31.3525  73.40     35  20.71   \n",
       "2          Umm Kaddadah  1612023647   26.6876  13.6017  74.01     18  14.36   \n",
       "3                Cosalá  1612023652 -106.6908  24.4125  78.93     35   1.54   \n",
       "4           Constantine  1612023667    6.6147  36.3650  69.80     32  14.97   \n",
       "5   São José dos Campos  1612023670  -45.8869 -23.1794  89.60     33   3.44   \n",
       "6           Minas Novas  1612023680  -42.5903 -17.2186  88.63     36   6.13   \n",
       "7                  Doka  1612023402   35.7667  13.5167  85.17     23  10.83   \n",
       "8               Zuwārah  1612023689   12.0820  32.9312  72.86     36  10.83   \n",
       "9                  Jalu  1612023698   21.5482  29.0331  70.20     30   9.66   \n",
       "10              Awjilah  1612023490   21.2869  29.1081  70.14     30   9.60   \n",
       "11             Araouane  1612023714   -3.5265  18.9048  85.44     12   7.83   \n",
       "\n",
       "    clouds Country  \n",
       "0       25      MR  \n",
       "1       17      EG  \n",
       "2        0      SD  \n",
       "3        0      MX  \n",
       "4        0      DZ  \n",
       "5       40      BR  \n",
       "6        8      BR  \n",
       "7        0      SD  \n",
       "8        0      LY  \n",
       "9        0      LY  \n",
       "10       0      LY  \n",
       "11      22      ML  "
      ]
     },
     "execution_count": 4,
     "metadata": {},
     "output_type": "execute_result"
    }
   ],
   "source": [
    "hotel_df = weather[weather.eval('Temp>=65 & Temp < 90 & (Humid < 40) & clouds <= 50')]\n",
    "hotel_df.reset_index(inplace=True)\n",
    "hotel_df\n"
   ]
  },
  {
   "cell_type": "markdown",
   "metadata": {},
   "source": [
    "### Create new DataFrame fitting weather criteria\n",
    "* Narrow down the cities to fit weather conditions.\n",
    "* Drop any rows will null values."
   ]
  },
  {
   "cell_type": "code",
   "execution_count": 5,
   "metadata": {},
   "outputs": [
    {
     "name": "stderr",
     "output_type": "stream",
     "text": [
      "<ipython-input-5-77cb39ae4dbd>:1: SettingWithCopyWarning: \n",
      "A value is trying to be set on a copy of a slice from a DataFrame.\n",
      "Try using .loc[row_indexer,col_indexer] = value instead\n",
      "\n",
      "See the caveats in the documentation: https://pandas.pydata.org/pandas-docs/stable/user_guide/indexing.html#returning-a-view-versus-a-copy\n",
      "  hotel_df[\"Hotel\"] = \"\"\n"
     ]
    },
    {
     "data": {
      "text/html": [
       "<div>\n",
       "<style scoped>\n",
       "    .dataframe tbody tr th:only-of-type {\n",
       "        vertical-align: middle;\n",
       "    }\n",
       "\n",
       "    .dataframe tbody tr th {\n",
       "        vertical-align: top;\n",
       "    }\n",
       "\n",
       "    .dataframe thead th {\n",
       "        text-align: right;\n",
       "    }\n",
       "</style>\n",
       "<table border=\"1\" class=\"dataframe\">\n",
       "  <thead>\n",
       "    <tr style=\"text-align: right;\">\n",
       "      <th></th>\n",
       "      <th>City Name</th>\n",
       "      <th>Date</th>\n",
       "      <th>Long</th>\n",
       "      <th>Lat</th>\n",
       "      <th>Temp</th>\n",
       "      <th>Humid</th>\n",
       "      <th>Wind</th>\n",
       "      <th>clouds</th>\n",
       "      <th>Country</th>\n",
       "      <th>Hotel</th>\n",
       "    </tr>\n",
       "  </thead>\n",
       "  <tbody>\n",
       "    <tr>\n",
       "      <th>0</th>\n",
       "      <td>Adrar</td>\n",
       "      <td>1612023637</td>\n",
       "      <td>-10.0711</td>\n",
       "      <td>20.5022</td>\n",
       "      <td>85.51</td>\n",
       "      <td>12</td>\n",
       "      <td>12.91</td>\n",
       "      <td>25</td>\n",
       "      <td>MR</td>\n",
       "      <td></td>\n",
       "    </tr>\n",
       "    <tr>\n",
       "      <th>1</th>\n",
       "      <td>Marsá Maţrūḩ</td>\n",
       "      <td>1612023583</td>\n",
       "      <td>27.2453</td>\n",
       "      <td>31.3525</td>\n",
       "      <td>73.40</td>\n",
       "      <td>35</td>\n",
       "      <td>20.71</td>\n",
       "      <td>17</td>\n",
       "      <td>EG</td>\n",
       "      <td></td>\n",
       "    </tr>\n",
       "    <tr>\n",
       "      <th>2</th>\n",
       "      <td>Umm Kaddadah</td>\n",
       "      <td>1612023647</td>\n",
       "      <td>26.6876</td>\n",
       "      <td>13.6017</td>\n",
       "      <td>74.01</td>\n",
       "      <td>18</td>\n",
       "      <td>14.36</td>\n",
       "      <td>0</td>\n",
       "      <td>SD</td>\n",
       "      <td></td>\n",
       "    </tr>\n",
       "    <tr>\n",
       "      <th>3</th>\n",
       "      <td>Cosalá</td>\n",
       "      <td>1612023652</td>\n",
       "      <td>-106.6908</td>\n",
       "      <td>24.4125</td>\n",
       "      <td>78.93</td>\n",
       "      <td>35</td>\n",
       "      <td>1.54</td>\n",
       "      <td>0</td>\n",
       "      <td>MX</td>\n",
       "      <td></td>\n",
       "    </tr>\n",
       "    <tr>\n",
       "      <th>4</th>\n",
       "      <td>Constantine</td>\n",
       "      <td>1612023667</td>\n",
       "      <td>6.6147</td>\n",
       "      <td>36.3650</td>\n",
       "      <td>69.80</td>\n",
       "      <td>32</td>\n",
       "      <td>14.97</td>\n",
       "      <td>0</td>\n",
       "      <td>DZ</td>\n",
       "      <td></td>\n",
       "    </tr>\n",
       "  </tbody>\n",
       "</table>\n",
       "</div>"
      ],
      "text/plain": [
       "      City Name        Date      Long      Lat   Temp  Humid   Wind  clouds  \\\n",
       "0         Adrar  1612023637  -10.0711  20.5022  85.51     12  12.91      25   \n",
       "1  Marsá Maţrūḩ  1612023583   27.2453  31.3525  73.40     35  20.71      17   \n",
       "2  Umm Kaddadah  1612023647   26.6876  13.6017  74.01     18  14.36       0   \n",
       "3        Cosalá  1612023652 -106.6908  24.4125  78.93     35   1.54       0   \n",
       "4   Constantine  1612023667    6.6147  36.3650  69.80     32  14.97       0   \n",
       "\n",
       "  Country Hotel  \n",
       "0      MR        \n",
       "1      EG        \n",
       "2      SD        \n",
       "3      MX        \n",
       "4      DZ        "
      ]
     },
     "execution_count": 5,
     "metadata": {},
     "output_type": "execute_result"
    }
   ],
   "source": [
    "hotel_df[\"Hotel\"] = \"\"\n",
    "hotel_df.head()"
   ]
  },
  {
   "cell_type": "code",
   "execution_count": 7,
   "metadata": {},
   "outputs": [
    {
     "name": "stdout",
     "output_type": "stream",
     "text": [
      "Retrieving Results for Index 0: Adrar.\n",
      "------------\n",
      "Retrieving Results for Index 1: Marsá Maţrūḩ.\n"
     ]
    },
    {
     "name": "stderr",
     "output_type": "stream",
     "text": [
      "<ipython-input-7-1856078e8dc1>:31: SettingWithCopyWarning: \n",
      "A value is trying to be set on a copy of a slice from a DataFrame\n",
      "\n",
      "See the caveats in the documentation: https://pandas.pydata.org/pandas-docs/stable/user_guide/indexing.html#returning-a-view-versus-a-copy\n",
      "  hotel_df.dropna(how='any', inplace=True)\n",
      "/Users/joyitaroy/opt/anaconda3/lib/python3.8/site-packages/pandas/core/indexing.py:1765: SettingWithCopyWarning: \n",
      "A value is trying to be set on a copy of a slice from a DataFrame.\n",
      "Try using .loc[row_indexer,col_indexer] = value instead\n",
      "\n",
      "See the caveats in the documentation: https://pandas.pydata.org/pandas-docs/stable/user_guide/indexing.html#returning-a-view-versus-a-copy\n",
      "  isetter(loc, value)\n"
     ]
    },
    {
     "name": "stdout",
     "output_type": "stream",
     "text": [
      "------------\n",
      "Retrieving Results for Index 2: Umm Kaddadah.\n"
     ]
    },
    {
     "name": "stderr",
     "output_type": "stream",
     "text": [
      "<ipython-input-7-1856078e8dc1>:31: SettingWithCopyWarning: \n",
      "A value is trying to be set on a copy of a slice from a DataFrame\n",
      "\n",
      "See the caveats in the documentation: https://pandas.pydata.org/pandas-docs/stable/user_guide/indexing.html#returning-a-view-versus-a-copy\n",
      "  hotel_df.dropna(how='any', inplace=True)\n"
     ]
    },
    {
     "name": "stdout",
     "output_type": "stream",
     "text": [
      "------------\n",
      "Retrieving Results for Index 3: Cosalá.\n"
     ]
    },
    {
     "name": "stderr",
     "output_type": "stream",
     "text": [
      "<ipython-input-7-1856078e8dc1>:31: SettingWithCopyWarning: \n",
      "A value is trying to be set on a copy of a slice from a DataFrame\n",
      "\n",
      "See the caveats in the documentation: https://pandas.pydata.org/pandas-docs/stable/user_guide/indexing.html#returning-a-view-versus-a-copy\n",
      "  hotel_df.dropna(how='any', inplace=True)\n",
      "/Users/joyitaroy/opt/anaconda3/lib/python3.8/site-packages/pandas/core/indexing.py:1765: SettingWithCopyWarning: \n",
      "A value is trying to be set on a copy of a slice from a DataFrame.\n",
      "Try using .loc[row_indexer,col_indexer] = value instead\n",
      "\n",
      "See the caveats in the documentation: https://pandas.pydata.org/pandas-docs/stable/user_guide/indexing.html#returning-a-view-versus-a-copy\n",
      "  isetter(loc, value)\n"
     ]
    },
    {
     "name": "stdout",
     "output_type": "stream",
     "text": [
      "------------\n",
      "Retrieving Results for Index 4: Constantine.\n"
     ]
    },
    {
     "name": "stderr",
     "output_type": "stream",
     "text": [
      "<ipython-input-7-1856078e8dc1>:31: SettingWithCopyWarning: \n",
      "A value is trying to be set on a copy of a slice from a DataFrame\n",
      "\n",
      "See the caveats in the documentation: https://pandas.pydata.org/pandas-docs/stable/user_guide/indexing.html#returning-a-view-versus-a-copy\n",
      "  hotel_df.dropna(how='any', inplace=True)\n",
      "/Users/joyitaroy/opt/anaconda3/lib/python3.8/site-packages/pandas/core/indexing.py:1765: SettingWithCopyWarning: \n",
      "A value is trying to be set on a copy of a slice from a DataFrame.\n",
      "Try using .loc[row_indexer,col_indexer] = value instead\n",
      "\n",
      "See the caveats in the documentation: https://pandas.pydata.org/pandas-docs/stable/user_guide/indexing.html#returning-a-view-versus-a-copy\n",
      "  isetter(loc, value)\n"
     ]
    },
    {
     "name": "stdout",
     "output_type": "stream",
     "text": [
      "------------\n",
      "Retrieving Results for Index 5: São José dos Campos.\n"
     ]
    },
    {
     "name": "stderr",
     "output_type": "stream",
     "text": [
      "<ipython-input-7-1856078e8dc1>:31: SettingWithCopyWarning: \n",
      "A value is trying to be set on a copy of a slice from a DataFrame\n",
      "\n",
      "See the caveats in the documentation: https://pandas.pydata.org/pandas-docs/stable/user_guide/indexing.html#returning-a-view-versus-a-copy\n",
      "  hotel_df.dropna(how='any', inplace=True)\n",
      "/Users/joyitaroy/opt/anaconda3/lib/python3.8/site-packages/pandas/core/indexing.py:1765: SettingWithCopyWarning: \n",
      "A value is trying to be set on a copy of a slice from a DataFrame.\n",
      "Try using .loc[row_indexer,col_indexer] = value instead\n",
      "\n",
      "See the caveats in the documentation: https://pandas.pydata.org/pandas-docs/stable/user_guide/indexing.html#returning-a-view-versus-a-copy\n",
      "  isetter(loc, value)\n"
     ]
    },
    {
     "name": "stdout",
     "output_type": "stream",
     "text": [
      "------------\n",
      "Retrieving Results for Index 6: Minas Novas.\n"
     ]
    },
    {
     "name": "stderr",
     "output_type": "stream",
     "text": [
      "<ipython-input-7-1856078e8dc1>:31: SettingWithCopyWarning: \n",
      "A value is trying to be set on a copy of a slice from a DataFrame\n",
      "\n",
      "See the caveats in the documentation: https://pandas.pydata.org/pandas-docs/stable/user_guide/indexing.html#returning-a-view-versus-a-copy\n",
      "  hotel_df.dropna(how='any', inplace=True)\n",
      "/Users/joyitaroy/opt/anaconda3/lib/python3.8/site-packages/pandas/core/indexing.py:1765: SettingWithCopyWarning: \n",
      "A value is trying to be set on a copy of a slice from a DataFrame.\n",
      "Try using .loc[row_indexer,col_indexer] = value instead\n",
      "\n",
      "See the caveats in the documentation: https://pandas.pydata.org/pandas-docs/stable/user_guide/indexing.html#returning-a-view-versus-a-copy\n",
      "  isetter(loc, value)\n"
     ]
    },
    {
     "name": "stdout",
     "output_type": "stream",
     "text": [
      "------------\n",
      "Retrieving Results for Index 7: Doka.\n"
     ]
    },
    {
     "name": "stderr",
     "output_type": "stream",
     "text": [
      "<ipython-input-7-1856078e8dc1>:31: SettingWithCopyWarning: \n",
      "A value is trying to be set on a copy of a slice from a DataFrame\n",
      "\n",
      "See the caveats in the documentation: https://pandas.pydata.org/pandas-docs/stable/user_guide/indexing.html#returning-a-view-versus-a-copy\n",
      "  hotel_df.dropna(how='any', inplace=True)\n"
     ]
    },
    {
     "name": "stdout",
     "output_type": "stream",
     "text": [
      "------------\n",
      "Retrieving Results for Index 8: Zuwārah.\n"
     ]
    },
    {
     "name": "stderr",
     "output_type": "stream",
     "text": [
      "<ipython-input-7-1856078e8dc1>:31: SettingWithCopyWarning: \n",
      "A value is trying to be set on a copy of a slice from a DataFrame\n",
      "\n",
      "See the caveats in the documentation: https://pandas.pydata.org/pandas-docs/stable/user_guide/indexing.html#returning-a-view-versus-a-copy\n",
      "  hotel_df.dropna(how='any', inplace=True)\n",
      "/Users/joyitaroy/opt/anaconda3/lib/python3.8/site-packages/pandas/core/indexing.py:1765: SettingWithCopyWarning: \n",
      "A value is trying to be set on a copy of a slice from a DataFrame.\n",
      "Try using .loc[row_indexer,col_indexer] = value instead\n",
      "\n",
      "See the caveats in the documentation: https://pandas.pydata.org/pandas-docs/stable/user_guide/indexing.html#returning-a-view-versus-a-copy\n",
      "  isetter(loc, value)\n"
     ]
    },
    {
     "name": "stdout",
     "output_type": "stream",
     "text": [
      "------------\n",
      "Retrieving Results for Index 9: Jalu.\n"
     ]
    },
    {
     "name": "stderr",
     "output_type": "stream",
     "text": [
      "<ipython-input-7-1856078e8dc1>:31: SettingWithCopyWarning: \n",
      "A value is trying to be set on a copy of a slice from a DataFrame\n",
      "\n",
      "See the caveats in the documentation: https://pandas.pydata.org/pandas-docs/stable/user_guide/indexing.html#returning-a-view-versus-a-copy\n",
      "  hotel_df.dropna(how='any', inplace=True)\n",
      "/Users/joyitaroy/opt/anaconda3/lib/python3.8/site-packages/pandas/core/indexing.py:1765: SettingWithCopyWarning: \n",
      "A value is trying to be set on a copy of a slice from a DataFrame.\n",
      "Try using .loc[row_indexer,col_indexer] = value instead\n",
      "\n",
      "See the caveats in the documentation: https://pandas.pydata.org/pandas-docs/stable/user_guide/indexing.html#returning-a-view-versus-a-copy\n",
      "  isetter(loc, value)\n"
     ]
    },
    {
     "name": "stdout",
     "output_type": "stream",
     "text": [
      "------------\n",
      "Retrieving Results for Index 10: Awjilah.\n"
     ]
    },
    {
     "name": "stderr",
     "output_type": "stream",
     "text": [
      "<ipython-input-7-1856078e8dc1>:31: SettingWithCopyWarning: \n",
      "A value is trying to be set on a copy of a slice from a DataFrame\n",
      "\n",
      "See the caveats in the documentation: https://pandas.pydata.org/pandas-docs/stable/user_guide/indexing.html#returning-a-view-versus-a-copy\n",
      "  hotel_df.dropna(how='any', inplace=True)\n"
     ]
    },
    {
     "name": "stdout",
     "output_type": "stream",
     "text": [
      "------------\n",
      "Retrieving Results for Index 11: Araouane.\n"
     ]
    },
    {
     "name": "stderr",
     "output_type": "stream",
     "text": [
      "<ipython-input-7-1856078e8dc1>:31: SettingWithCopyWarning: \n",
      "A value is trying to be set on a copy of a slice from a DataFrame\n",
      "\n",
      "See the caveats in the documentation: https://pandas.pydata.org/pandas-docs/stable/user_guide/indexing.html#returning-a-view-versus-a-copy\n",
      "  hotel_df.dropna(how='any', inplace=True)\n"
     ]
    },
    {
     "name": "stdout",
     "output_type": "stream",
     "text": [
      "------------\n"
     ]
    },
    {
     "name": "stderr",
     "output_type": "stream",
     "text": [
      "<ipython-input-7-1856078e8dc1>:31: SettingWithCopyWarning: \n",
      "A value is trying to be set on a copy of a slice from a DataFrame\n",
      "\n",
      "See the caveats in the documentation: https://pandas.pydata.org/pandas-docs/stable/user_guide/indexing.html#returning-a-view-versus-a-copy\n",
      "  hotel_df.dropna(how='any', inplace=True)\n"
     ]
    }
   ],
   "source": [
    "base_url = \"https://maps.googleapis.com/maps/api/place/nearbysearch/json\"\n",
    "target_search = \"hotel\"\n",
    "target_radius = 5000\n",
    "target_type = \"lodging\"\n",
    "\n",
    "# set up a parameters dictionary\n",
    "params = {\n",
    "    \"keyword\": target_search,\n",
    "    \"radius\": target_radius,\n",
    "    \"type\": target_type,\n",
    "    \"key\": g_key\n",
    "}\n",
    "\n",
    "for index, row in hotel_df.iterrows():\n",
    "    lat = row['Lat']\n",
    "    long = row['Long']\n",
    "    city = row['City Name']\n",
    "    #append the lat and long from each row and add to \n",
    "    params[\"location\"] = f'{lat},{long}'\n",
    "\n",
    "    print(f\"Retrieving Results for Index {index}: {city}.\")\n",
    "    response = requests.get(base_url, params=params).json()\n",
    "    results = response['results']\n",
    "    try:\n",
    "        hotel_df.loc[index, \"Hotel\"] = results[0]['name']\n",
    "    except :\n",
    "        pass\n",
    "    time.sleep(1)\n",
    "    print(\"------------\")\n",
    "\n",
    "    hotel_df.dropna(how='any', inplace=True)\n",
    "    hotel_df"
   ]
  },
  {
   "cell_type": "markdown",
   "metadata": {},
   "source": [
    "### Hotel Map\n",
    "* Store into variable named `hotel_df`.\n",
    "* Add a \"Hotel Name\" column to the DataFrame.\n",
    "* Set parameters to search for hotels with 5000 meters.\n",
    "* Hit the Google Places API for each city's coordinates.\n",
    "* Store the first Hotel result into the DataFrame.\n",
    "* Plot markers on top of the heatmap."
   ]
  },
  {
   "cell_type": "code",
   "execution_count": null,
   "metadata": {},
   "outputs": [],
   "source": []
  },
  {
   "cell_type": "code",
   "execution_count": 8,
   "metadata": {},
   "outputs": [],
   "source": [
    "# NOTE: Do not change any of the code in this cell\n",
    "\n",
    "# Using the template add the hotel marks to the heatmap\n",
    "info_box_template = \"\"\"\n",
    "<dl>\n",
    "<dt>Name</dt><dd>{Hotel}</dd>\n",
    "<dt>City</dt><dd>{City Name}</dd>\n",
    "<dt>Country</dt><dd>{Country}</dd>\n",
    "</dl>\n",
    "\"\"\"\n",
    "# Store the DataFrame Row\n",
    "# NOTE: be sure to update with your DataFrame name\n",
    "hotel_info = [info_box_template.format(**row) for index, row in hotel_df.iterrows()]\n",
    "locations = hotel_df[[\"Lat\", \"Long\"]]"
   ]
  },
  {
   "cell_type": "code",
   "execution_count": null,
   "metadata": {},
   "outputs": [],
   "source": [
    "#gmaps.configure(api_key=g_key)"
   ]
  },
  {
   "cell_type": "code",
   "execution_count": 9,
   "metadata": {},
   "outputs": [
    {
     "data": {
      "application/vnd.jupyter.widget-view+json": {
       "model_id": "908487bdaa0d45d38954257d82be4b65",
       "version_major": 2,
       "version_minor": 0
      },
      "text/plain": [
       "Figure(layout=FigureLayout(height='420px'))"
      ]
     },
     "metadata": {},
     "output_type": "display_data"
    }
   ],
   "source": [
    "# Add marker layer ontop of heat map\n",
    "markers = gmaps.marker_layer(locations, info_box_content = hotel_info)\n",
    "\n",
    "\n",
    "'''figure_layout = {\n",
    "    'width': '450px',\n",
    "    'height': '300px',\n",
    "    'border': '1px solid black',\n",
    "    'padding': '1px',\n",
    "    'margin': '0 auto 0 auto'\n",
    "}\n",
    "\n",
    "fig = gmaps.figure(layout=figure_layout)'''\n",
    "fig.add_layer(markers)\n",
    "# Display figure\n",
    "fig\n"
   ]
  },
  {
   "cell_type": "code",
   "execution_count": null,
   "metadata": {},
   "outputs": [],
   "source": []
  }
 ],
 "metadata": {
  "kernelspec": {
   "display_name": "Python 3",
   "language": "python",
   "name": "python3"
  },
  "language_info": {
   "codemirror_mode": {
    "name": "ipython",
    "version": 3
   },
   "file_extension": ".py",
   "mimetype": "text/x-python",
   "name": "python",
   "nbconvert_exporter": "python",
   "pygments_lexer": "ipython3",
   "version": "3.8.5"
  },
  "latex_envs": {
   "LaTeX_envs_menu_present": true,
   "autoclose": false,
   "autocomplete": true,
   "bibliofile": "biblio.bib",
   "cite_by": "apalike",
   "current_citInitial": 1,
   "eqLabelWithNumbers": true,
   "eqNumInitial": 1,
   "hotkeys": {
    "equation": "Ctrl-E",
    "itemize": "Ctrl-I"
   },
   "labels_anchors": false,
   "latex_user_defs": false,
   "report_style_numbering": false,
   "user_envs_cfg": false
  }
 },
 "nbformat": 4,
 "nbformat_minor": 4
}
